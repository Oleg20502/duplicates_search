{
 "cells": [
  {
   "cell_type": "code",
   "execution_count": 1,
   "id": "14093112-0726-47ce-af75-bc5030985865",
   "metadata": {},
   "outputs": [],
   "source": [
    "from sentence_transformers import (\n",
    "    SentenceTransformer,\n",
    "    InputExample,\n",
    "    losses,\n",
    "    SentenceTransformerTrainingArguments,\n",
    "    SentenceTransformerTrainer,\n",
    ")\n",
    "\n",
    "from sentence_transformers.evaluation import (\n",
    "    BinaryClassificationEvaluator,\n",
    "    SimilarityFunction,\n",
    ")\n",
    "\n",
    "from transformers import AutoConfig, AutoTokenizer, AutoModel\n",
    "\n",
    "from torch import nn\n",
    "from torch.utils.data import DataLoader, Dataset\n",
    "from datasets import load_dataset\n",
    "from sklearn.model_selection import train_test_split\n",
    "from sklearn.metrics.pairwise import paired_cosine_distances\n",
    "from sklearn.metrics import roc_auc_score\n",
    "\n",
    "import pandas as pd\n",
    "import numpy as np\n",
    "import matplotlib.pyplot as plt\n",
    "import os\n",
    "\n",
    "os.environ[\"NCCL_P2P_DISABLE\"] = \"1\"\n",
    "os.environ[\"NCCL_IB_DISABLE\"] = \"1\"\n",
    "\n",
    "os.environ[\"CUDA_VISIBLE_DEVICES\"] = \"0\""
   ]
  },
  {
   "cell_type": "code",
   "execution_count": 2,
   "id": "106f954a-0f2a-4a2c-8634-c51b8a621c9c",
   "metadata": {},
   "outputs": [],
   "source": [
    "import wandb"
   ]
  },
  {
   "cell_type": "code",
   "execution_count": 3,
   "id": "fe23c14a-df4f-4665-957e-1c7736773f99",
   "metadata": {},
   "outputs": [],
   "source": [
    "model_id = \"intfloat/e5-base-v2\"\n",
    "\n",
    "# configuration = AutoConfig.from_pretrained(model_id)\n",
    "# configuration.hidden_dropout_prob = 0.5\n",
    "# configuration.attention_probs_dropout_prob = 0.5\n",
    "\n",
    "# tokenizer = AutoTokenizer.from_pretrained(model_id)\n",
    "# model = AutoModel.from_pretrained(model_id, config=configuration)\n",
    "\n",
    "model = SentenceTransformer(model_id)"
   ]
  },
  {
   "cell_type": "code",
   "execution_count": 35,
   "id": "325b4d5f-f739-41d4-b9d2-5584ad57784d",
   "metadata": {},
   "outputs": [
    {
     "data": {
      "text/plain": [
       "SentenceTransformer(\n",
       "  (0): Transformer({'max_seq_length': 512, 'do_lower_case': False}) with Transformer model: BertModel \n",
       "  (1): Pooling({'word_embedding_dimension': 768, 'pooling_mode_cls_token': False, 'pooling_mode_mean_tokens': True, 'pooling_mode_max_tokens': False, 'pooling_mode_mean_sqrt_len_tokens': False, 'pooling_mode_weightedmean_tokens': False, 'pooling_mode_lasttoken': False, 'include_prompt': True})\n",
       "  (2): Normalize()\n",
       ")"
      ]
     },
     "execution_count": 35,
     "metadata": {},
     "output_type": "execute_result"
    }
   ],
   "source": [
    "model"
   ]
  },
  {
   "cell_type": "code",
   "execution_count": 36,
   "id": "d36a5ffe-5b96-4784-8a26-fa6e2e485c16",
   "metadata": {},
   "outputs": [],
   "source": [
    "model[0].auto_model.embeddings.dropout.p = 0.5"
   ]
  },
  {
   "cell_type": "code",
   "execution_count": null,
   "id": "dbb9fcf2-fd56-4253-acf4-ed617015f027",
   "metadata": {},
   "outputs": [],
   "source": []
  },
  {
   "cell_type": "code",
   "execution_count": null,
   "id": "e0838d25-82b6-4f99-bf36-fa0a23962f71",
   "metadata": {},
   "outputs": [],
   "source": []
  },
  {
   "cell_type": "code",
   "execution_count": 37,
   "id": "503c452c-89f7-424a-b519-98048aee5a96",
   "metadata": {},
   "outputs": [],
   "source": [
    "df = pd.read_csv(\"data/train.csv\")"
   ]
  },
  {
   "cell_type": "code",
   "execution_count": 38,
   "id": "51cc6c8f-ac98-4c8e-b60e-e6be953d1d4a",
   "metadata": {},
   "outputs": [
    {
     "data": {
      "text/html": [
       "<div>\n",
       "<style scoped>\n",
       "    .dataframe tbody tr th:only-of-type {\n",
       "        vertical-align: middle;\n",
       "    }\n",
       "\n",
       "    .dataframe tbody tr th {\n",
       "        vertical-align: top;\n",
       "    }\n",
       "\n",
       "    .dataframe thead th {\n",
       "        text-align: right;\n",
       "    }\n",
       "</style>\n",
       "<table border=\"1\" class=\"dataframe\">\n",
       "  <thead>\n",
       "    <tr style=\"text-align: right;\">\n",
       "      <th></th>\n",
       "      <th>id</th>\n",
       "      <th>question1</th>\n",
       "      <th>question2</th>\n",
       "      <th>target</th>\n",
       "    </tr>\n",
       "  </thead>\n",
       "  <tbody>\n",
       "    <tr>\n",
       "      <th>0</th>\n",
       "      <td>0</td>\n",
       "      <td>What is the story of Kohinoor (Koh-i-Noor) Dia...</td>\n",
       "      <td>What would happen if the Indian government sto...</td>\n",
       "      <td>0</td>\n",
       "    </tr>\n",
       "    <tr>\n",
       "      <th>1</th>\n",
       "      <td>1</td>\n",
       "      <td>What are some tips on making it through the jo...</td>\n",
       "      <td>What are some tips on making it through the jo...</td>\n",
       "      <td>0</td>\n",
       "    </tr>\n",
       "    <tr>\n",
       "      <th>2</th>\n",
       "      <td>2</td>\n",
       "      <td>Why do some people think Obama will try to tak...</td>\n",
       "      <td>Has there been a gun control initiative to tak...</td>\n",
       "      <td>0</td>\n",
       "    </tr>\n",
       "    <tr>\n",
       "      <th>3</th>\n",
       "      <td>3</td>\n",
       "      <td>Why does China block sanctions at the UN again...</td>\n",
       "      <td>Why does China support Masood Azhar?</td>\n",
       "      <td>1</td>\n",
       "    </tr>\n",
       "    <tr>\n",
       "      <th>4</th>\n",
       "      <td>4</td>\n",
       "      <td>What is the ideal life after retirement?</td>\n",
       "      <td>What's life after retirement?</td>\n",
       "      <td>0</td>\n",
       "    </tr>\n",
       "  </tbody>\n",
       "</table>\n",
       "</div>"
      ],
      "text/plain": [
       "   id                                          question1  \\\n",
       "0   0  What is the story of Kohinoor (Koh-i-Noor) Dia...   \n",
       "1   1  What are some tips on making it through the jo...   \n",
       "2   2  Why do some people think Obama will try to tak...   \n",
       "3   3  Why does China block sanctions at the UN again...   \n",
       "4   4           What is the ideal life after retirement?   \n",
       "\n",
       "                                           question2  target  \n",
       "0  What would happen if the Indian government sto...       0  \n",
       "1  What are some tips on making it through the jo...       0  \n",
       "2  Has there been a gun control initiative to tak...       0  \n",
       "3               Why does China support Masood Azhar?       1  \n",
       "4                      What's life after retirement?       0  "
      ]
     },
     "execution_count": 38,
     "metadata": {},
     "output_type": "execute_result"
    }
   ],
   "source": [
    "df.head()"
   ]
  },
  {
   "cell_type": "code",
   "execution_count": 39,
   "id": "c8c8dfdf-8b3a-4e54-aa86-603b5ef360a2",
   "metadata": {},
   "outputs": [
    {
     "name": "stdout",
     "output_type": "stream",
     "text": [
      "26368\n"
     ]
    }
   ],
   "source": [
    "print(len(df))"
   ]
  },
  {
   "cell_type": "code",
   "execution_count": 40,
   "id": "093649b8-b3d6-42d2-9772-6e23ab3d9288",
   "metadata": {},
   "outputs": [
    {
     "data": {
      "text/plain": [
       "target\n",
       "0    17742\n",
       "1     8626\n",
       "Name: count, dtype: int64"
      ]
     },
     "execution_count": 40,
     "metadata": {},
     "output_type": "execute_result"
    }
   ],
   "source": [
    "df['target'].value_counts()"
   ]
  },
  {
   "cell_type": "code",
   "execution_count": 5,
   "id": "41d614e9-d295-41cf-b73b-ec0d24aa4626",
   "metadata": {},
   "outputs": [
    {
     "data": {
      "application/vnd.jupyter.widget-view+json": {
       "model_id": "98017bb58d6d4394a5ed2fbbd29a74c1",
       "version_major": 2,
       "version_minor": 0
      },
      "text/plain": [
       "Generating train split: 0 examples [00:00, ? examples/s]"
      ]
     },
     "metadata": {},
     "output_type": "display_data"
    }
   ],
   "source": [
    "dataset = load_dataset(\"csv\", data_files=\"../data/train.csv\")"
   ]
  },
  {
   "cell_type": "code",
   "execution_count": 6,
   "id": "6fe57d91-3a41-4df5-aa2b-1ea352464048",
   "metadata": {},
   "outputs": [],
   "source": [
    "dataset = dataset.remove_columns('id')\n",
    "dataset = dataset.rename_column('question1', 'text1')\n",
    "dataset = dataset.rename_column('question2', 'text2')\n",
    "dataset = dataset.rename_column('target', 'label')"
   ]
  },
  {
   "cell_type": "code",
   "execution_count": 7,
   "id": "42da5481-847f-4e93-a415-b032cfd603db",
   "metadata": {},
   "outputs": [
    {
     "data": {
      "application/vnd.jupyter.widget-view+json": {
       "model_id": "6fb4f21e26f94871b03d1d7f1a2724cd",
       "version_major": 2,
       "version_minor": 0
      },
      "text/plain": [
       "Map:   0%|          | 0/26368 [00:00<?, ? examples/s]"
      ]
     },
     "metadata": {},
     "output_type": "display_data"
    }
   ],
   "source": [
    "def prepend_query(example):\n",
    "    example['text1'] = \"query: \" + example['text1']\n",
    "    example['text2'] = \"query: \" + example['text2']\n",
    "    return example\n",
    "\n",
    "dataset = dataset.map(prepend_query)"
   ]
  },
  {
   "cell_type": "code",
   "execution_count": 8,
   "id": "d41fb887-da03-4440-a839-0a76a7b56561",
   "metadata": {},
   "outputs": [],
   "source": [
    "split_dataset = dataset[\"train\"].train_test_split(test_size=0.2, seed=42)"
   ]
  },
  {
   "cell_type": "code",
   "execution_count": 9,
   "id": "52b619f5-6491-4ebe-a7e5-a8b75179b8b1",
   "metadata": {},
   "outputs": [],
   "source": [
    "train_dataset = split_dataset['train']\n",
    "test_dataset = split_dataset['test']"
   ]
  },
  {
   "cell_type": "code",
   "execution_count": 10,
   "id": "8d5da84e-cdaa-405a-a2c2-8f8c17f463b6",
   "metadata": {},
   "outputs": [],
   "source": [
    "loss = losses.CosineSimilarityLoss(\n",
    "    model,\n",
    "    cos_score_transformation=nn.ReLU()\n",
    ")"
   ]
  },
  {
   "cell_type": "code",
   "execution_count": 11,
   "id": "cdd9697a-56ed-49b4-972c-053538a95246",
   "metadata": {},
   "outputs": [],
   "source": [
    "batch_size=64\n",
    "run_name = 'run_4'\n",
    "output_dir = 'e5-base_' + run_name\n",
    "num_epochs=10\n",
    "checkpoint_path=False"
   ]
  },
  {
   "cell_type": "code",
   "execution_count": 55,
   "id": "6886b7b4-9ae0-4b5b-ac41-cfa830b48b8b",
   "metadata": {},
   "outputs": [],
   "source": [
    "args = SentenceTransformerTrainingArguments(\n",
    "    # Required parameter:\n",
    "    output_dir=output_dir,\n",
    "    # Optional training parameters:\n",
    "    num_train_epochs=num_epochs,\n",
    "    per_device_train_batch_size=batch_size,\n",
    "    per_device_eval_batch_size=batch_size,\n",
    "    learning_rate=5e-5,\n",
    "    warmup_ratio=0.05,\n",
    "    fp16=False,\n",
    "    bf16=False,\n",
    "    # Optional tracking/debugging parameters:\n",
    "    eval_strategy=\"steps\",\n",
    "    eval_steps=100,\n",
    "    save_strategy=\"steps\",\n",
    "    save_steps=100,\n",
    "    save_total_limit=1,\n",
    "    load_best_model_at_end=True,\n",
    "    metric_for_best_model=\"eval_loss\",\n",
    "    greater_is_better=False,\n",
    "    logging_steps=100,\n",
    "    logging_dir=\"./logs\",\n",
    "    run_name=run_name,\n",
    "    report_to=\"wandb\",\n",
    ")"
   ]
  },
  {
   "cell_type": "code",
   "execution_count": 56,
   "id": "9db795e4-1975-433d-9a57-0e4ac43516e2",
   "metadata": {},
   "outputs": [],
   "source": [
    "dev_evaluator = BinaryClassificationEvaluator(\n",
    "    sentences1=test_dataset[\"text1\"],\n",
    "    sentences2=test_dataset[\"text2\"],\n",
    "    labels=test_dataset[\"label\"],\n",
    "    similarity_fn_names=['cosine'],\n",
    "    batch_size=batch_size,\n",
    ")"
   ]
  },
  {
   "cell_type": "code",
   "execution_count": 57,
   "id": "a20cf581-bb4b-4629-8614-0863ac5456af",
   "metadata": {},
   "outputs": [
    {
     "data": {
      "text/html": [],
      "text/plain": [
       "<IPython.core.display.HTML object>"
      ]
     },
     "metadata": {},
     "output_type": "display_data"
    },
    {
     "data": {
      "text/html": [
       "You can sync this run to the cloud by running:<br><code>wandb sync /home/kashurin/duplicates_search/wandb/offline-run-20250219_175448-ooxww2u1<code>"
      ],
      "text/plain": [
       "<IPython.core.display.HTML object>"
      ]
     },
     "metadata": {},
     "output_type": "display_data"
    },
    {
     "data": {
      "text/html": [
       "Find logs at: <code>./wandb/offline-run-20250219_175448-ooxww2u1/logs</code>"
      ],
      "text/plain": [
       "<IPython.core.display.HTML object>"
      ]
     },
     "metadata": {},
     "output_type": "display_data"
    },
    {
     "data": {
      "text/html": [
       "Changes to your `wandb` environment variables will be ignored because your `wandb` session has already started. For more information on how to modify your settings with `wandb.init()` arguments, please refer to <a href='https://wandb.me/wandb-init' target=\"_blank\">the W&B docs</a>."
      ],
      "text/plain": [
       "<IPython.core.display.HTML object>"
      ]
     },
     "metadata": {},
     "output_type": "display_data"
    },
    {
     "data": {
      "text/html": [
       "Tracking run with wandb version 0.19.6"
      ],
      "text/plain": [
       "<IPython.core.display.HTML object>"
      ]
     },
     "metadata": {},
     "output_type": "display_data"
    },
    {
     "data": {
      "text/html": [
       "W&B syncing is set to <code>`offline`<code> in this directory.  <br>Run <code>`wandb online`<code> or set <code>WANDB_MODE=online<code> to enable cloud syncing."
      ],
      "text/plain": [
       "<IPython.core.display.HTML object>"
      ]
     },
     "metadata": {},
     "output_type": "display_data"
    },
    {
     "data": {
      "text/html": [
       "<button onClick=\"this.nextSibling.style.display='block';this.style.display='none';\">Display W&B run</button><iframe src='?jupyter=true' style='border:none;width:100%;height:420px;display:none;'></iframe>"
      ],
      "text/plain": [
       "<wandb.sdk.wandb_run.Run at 0x7fb0df20e510>"
      ]
     },
     "execution_count": 57,
     "metadata": {},
     "output_type": "execute_result"
    }
   ],
   "source": [
    "wandb.finish()\n",
    "\n",
    "wandb_run_name = f\"e5-base-v2-{run_name}_epochs-{num_epochs}\"\n",
    "wandb.init(\n",
    "    project=\"DuplicateSearch\",\n",
    "    name=wandb_run_name,\n",
    "    mode='offline',\n",
    "    \n",
    ")"
   ]
  },
  {
   "cell_type": "code",
   "execution_count": 58,
   "id": "95f7f258-3b4f-459f-9814-2c8e65b297cc",
   "metadata": {},
   "outputs": [
    {
     "name": "stderr",
     "output_type": "stream",
     "text": [
      "Detected kernel version 5.3.18, which is below the recommended minimum of 5.5.0; this can cause the process to hang. It is recommended to upgrade the kernel to the minimum version or higher.\n"
     ]
    },
    {
     "data": {
      "text/html": [
       "\n",
       "    <div>\n",
       "      \n",
       "      <progress value='3300' max='3300' style='width:300px; height:20px; vertical-align: middle;'></progress>\n",
       "      [3300/3300 17:43, Epoch 10/10]\n",
       "    </div>\n",
       "    <table border=\"1\" class=\"dataframe\">\n",
       "  <thead>\n",
       " <tr style=\"text-align: left;\">\n",
       "      <th>Step</th>\n",
       "      <th>Training Loss</th>\n",
       "      <th>Validation Loss</th>\n",
       "      <th>Cosine Accuracy</th>\n",
       "      <th>Cosine Accuracy Threshold</th>\n",
       "      <th>Cosine F1</th>\n",
       "      <th>Cosine F1 Threshold</th>\n",
       "      <th>Cosine Precision</th>\n",
       "      <th>Cosine Recall</th>\n",
       "      <th>Cosine Ap</th>\n",
       "      <th>Cosine Mcc</th>\n",
       "    </tr>\n",
       "  </thead>\n",
       "  <tbody>\n",
       "    <tr>\n",
       "      <td>100</td>\n",
       "      <td>0.285700</td>\n",
       "      <td>0.171640</td>\n",
       "      <td>0.824611</td>\n",
       "      <td>0.729708</td>\n",
       "      <td>0.756266</td>\n",
       "      <td>0.607420</td>\n",
       "      <td>0.656989</td>\n",
       "      <td>0.890889</td>\n",
       "      <td>0.805377</td>\n",
       "      <td>0.620927</td>\n",
       "    </tr>\n",
       "    <tr>\n",
       "      <td>200</td>\n",
       "      <td>0.138200</td>\n",
       "      <td>0.138890</td>\n",
       "      <td>0.849640</td>\n",
       "      <td>0.705429</td>\n",
       "      <td>0.783087</td>\n",
       "      <td>0.586238</td>\n",
       "      <td>0.705273</td>\n",
       "      <td>0.880202</td>\n",
       "      <td>0.820351</td>\n",
       "      <td>0.663717</td>\n",
       "    </tr>\n",
       "    <tr>\n",
       "      <td>300</td>\n",
       "      <td>0.125200</td>\n",
       "      <td>0.132823</td>\n",
       "      <td>0.856845</td>\n",
       "      <td>0.679287</td>\n",
       "      <td>0.797826</td>\n",
       "      <td>0.628110</td>\n",
       "      <td>0.739089</td>\n",
       "      <td>0.866704</td>\n",
       "      <td>0.832698</td>\n",
       "      <td>0.687544</td>\n",
       "    </tr>\n",
       "    <tr>\n",
       "      <td>400</td>\n",
       "      <td>0.111400</td>\n",
       "      <td>0.125806</td>\n",
       "      <td>0.856086</td>\n",
       "      <td>0.649449</td>\n",
       "      <td>0.796851</td>\n",
       "      <td>0.572616</td>\n",
       "      <td>0.726389</td>\n",
       "      <td>0.882452</td>\n",
       "      <td>0.831706</td>\n",
       "      <td>0.685803</td>\n",
       "    </tr>\n",
       "    <tr>\n",
       "      <td>500</td>\n",
       "      <td>0.110000</td>\n",
       "      <td>0.126283</td>\n",
       "      <td>0.864619</td>\n",
       "      <td>0.685149</td>\n",
       "      <td>0.812821</td>\n",
       "      <td>0.617722</td>\n",
       "      <td>0.746937</td>\n",
       "      <td>0.891451</td>\n",
       "      <td>0.849261</td>\n",
       "      <td>0.711299</td>\n",
       "    </tr>\n",
       "    <tr>\n",
       "      <td>600</td>\n",
       "      <td>0.099700</td>\n",
       "      <td>0.123238</td>\n",
       "      <td>0.870876</td>\n",
       "      <td>0.706742</td>\n",
       "      <td>0.816702</td>\n",
       "      <td>0.653225</td>\n",
       "      <td>0.766010</td>\n",
       "      <td>0.874578</td>\n",
       "      <td>0.855013</td>\n",
       "      <td>0.717689</td>\n",
       "    </tr>\n",
       "    <tr>\n",
       "      <td>700</td>\n",
       "      <td>0.093500</td>\n",
       "      <td>0.114267</td>\n",
       "      <td>0.868411</td>\n",
       "      <td>0.687701</td>\n",
       "      <td>0.808499</td>\n",
       "      <td>0.607845</td>\n",
       "      <td>0.765979</td>\n",
       "      <td>0.856018</td>\n",
       "      <td>0.854972</td>\n",
       "      <td>0.705337</td>\n",
       "    </tr>\n",
       "    <tr>\n",
       "      <td>800</td>\n",
       "      <td>0.082800</td>\n",
       "      <td>0.114123</td>\n",
       "      <td>0.875616</td>\n",
       "      <td>0.696727</td>\n",
       "      <td>0.818331</td>\n",
       "      <td>0.662240</td>\n",
       "      <td>0.794492</td>\n",
       "      <td>0.843645</td>\n",
       "      <td>0.858846</td>\n",
       "      <td>0.722454</td>\n",
       "    </tr>\n",
       "    <tr>\n",
       "      <td>900</td>\n",
       "      <td>0.081900</td>\n",
       "      <td>0.115375</td>\n",
       "      <td>0.876754</td>\n",
       "      <td>0.703381</td>\n",
       "      <td>0.822664</td>\n",
       "      <td>0.685631</td>\n",
       "      <td>0.797676</td>\n",
       "      <td>0.849269</td>\n",
       "      <td>0.862738</td>\n",
       "      <td>0.728984</td>\n",
       "    </tr>\n",
       "    <tr>\n",
       "      <td>1000</td>\n",
       "      <td>0.081200</td>\n",
       "      <td>0.112147</td>\n",
       "      <td>0.880925</td>\n",
       "      <td>0.712205</td>\n",
       "      <td>0.826871</td>\n",
       "      <td>0.671321</td>\n",
       "      <td>0.803609</td>\n",
       "      <td>0.851519</td>\n",
       "      <td>0.869129</td>\n",
       "      <td>0.735641</td>\n",
       "    </tr>\n",
       "    <tr>\n",
       "      <td>1100</td>\n",
       "      <td>0.066200</td>\n",
       "      <td>0.110795</td>\n",
       "      <td>0.875616</td>\n",
       "      <td>0.691969</td>\n",
       "      <td>0.817047</td>\n",
       "      <td>0.650062</td>\n",
       "      <td>0.789612</td>\n",
       "      <td>0.846457</td>\n",
       "      <td>0.863776</td>\n",
       "      <td>0.720061</td>\n",
       "    </tr>\n",
       "    <tr>\n",
       "      <td>1200</td>\n",
       "      <td>0.065900</td>\n",
       "      <td>0.111339</td>\n",
       "      <td>0.879598</td>\n",
       "      <td>0.717010</td>\n",
       "      <td>0.821310</td>\n",
       "      <td>0.698818</td>\n",
       "      <td>0.810515</td>\n",
       "      <td>0.832396</td>\n",
       "      <td>0.871937</td>\n",
       "      <td>0.728742</td>\n",
       "    </tr>\n",
       "    <tr>\n",
       "      <td>1300</td>\n",
       "      <td>0.061800</td>\n",
       "      <td>0.109895</td>\n",
       "      <td>0.876943</td>\n",
       "      <td>0.710899</td>\n",
       "      <td>0.822404</td>\n",
       "      <td>0.675752</td>\n",
       "      <td>0.799681</td>\n",
       "      <td>0.846457</td>\n",
       "      <td>0.870517</td>\n",
       "      <td>0.728844</td>\n",
       "    </tr>\n",
       "    <tr>\n",
       "      <td>1400</td>\n",
       "      <td>0.054200</td>\n",
       "      <td>0.107519</td>\n",
       "      <td>0.874858</td>\n",
       "      <td>0.683780</td>\n",
       "      <td>0.819362</td>\n",
       "      <td>0.652191</td>\n",
       "      <td>0.789062</td>\n",
       "      <td>0.852081</td>\n",
       "      <td>0.869681</td>\n",
       "      <td>0.723328</td>\n",
       "    </tr>\n",
       "    <tr>\n",
       "      <td>1500</td>\n",
       "      <td>0.051700</td>\n",
       "      <td>0.113894</td>\n",
       "      <td>0.875616</td>\n",
       "      <td>0.752269</td>\n",
       "      <td>0.822445</td>\n",
       "      <td>0.638587</td>\n",
       "      <td>0.773538</td>\n",
       "      <td>0.877953</td>\n",
       "      <td>0.871432</td>\n",
       "      <td>0.726782</td>\n",
       "    </tr>\n",
       "    <tr>\n",
       "      <td>1600</td>\n",
       "      <td>0.053500</td>\n",
       "      <td>0.107719</td>\n",
       "      <td>0.877323</td>\n",
       "      <td>0.688278</td>\n",
       "      <td>0.821663</td>\n",
       "      <td>0.657964</td>\n",
       "      <td>0.799787</td>\n",
       "      <td>0.844769</td>\n",
       "      <td>0.872339</td>\n",
       "      <td>0.727806</td>\n",
       "    </tr>\n",
       "    <tr>\n",
       "      <td>1700</td>\n",
       "      <td>0.046100</td>\n",
       "      <td>0.107057</td>\n",
       "      <td>0.875427</td>\n",
       "      <td>0.677633</td>\n",
       "      <td>0.818975</td>\n",
       "      <td>0.647830</td>\n",
       "      <td>0.794709</td>\n",
       "      <td>0.844769</td>\n",
       "      <td>0.867777</td>\n",
       "      <td>0.723393</td>\n",
       "    </tr>\n",
       "    <tr>\n",
       "      <td>1800</td>\n",
       "      <td>0.042600</td>\n",
       "      <td>0.108737</td>\n",
       "      <td>0.874858</td>\n",
       "      <td>0.707741</td>\n",
       "      <td>0.820940</td>\n",
       "      <td>0.639407</td>\n",
       "      <td>0.785311</td>\n",
       "      <td>0.859955</td>\n",
       "      <td>0.872811</td>\n",
       "      <td>0.725275</td>\n",
       "    </tr>\n",
       "    <tr>\n",
       "      <td>1900</td>\n",
       "      <td>0.042300</td>\n",
       "      <td>0.109626</td>\n",
       "      <td>0.878650</td>\n",
       "      <td>0.731390</td>\n",
       "      <td>0.821536</td>\n",
       "      <td>0.671304</td>\n",
       "      <td>0.799043</td>\n",
       "      <td>0.845332</td>\n",
       "      <td>0.869598</td>\n",
       "      <td>0.727538</td>\n",
       "    </tr>\n",
       "    <tr>\n",
       "      <td>2000</td>\n",
       "      <td>0.040400</td>\n",
       "      <td>0.108689</td>\n",
       "      <td>0.875995</td>\n",
       "      <td>0.773436</td>\n",
       "      <td>0.820264</td>\n",
       "      <td>0.649680</td>\n",
       "      <td>0.787377</td>\n",
       "      <td>0.856018</td>\n",
       "      <td>0.870835</td>\n",
       "      <td>0.724472</td>\n",
       "    </tr>\n",
       "    <tr>\n",
       "      <td>2100</td>\n",
       "      <td>0.034200</td>\n",
       "      <td>0.110229</td>\n",
       "      <td>0.876185</td>\n",
       "      <td>0.729804</td>\n",
       "      <td>0.820132</td>\n",
       "      <td>0.694672</td>\n",
       "      <td>0.802476</td>\n",
       "      <td>0.838583</td>\n",
       "      <td>0.872198</td>\n",
       "      <td>0.725993</td>\n",
       "    </tr>\n",
       "    <tr>\n",
       "      <td>2200</td>\n",
       "      <td>0.036100</td>\n",
       "      <td>0.108281</td>\n",
       "      <td>0.875616</td>\n",
       "      <td>0.700678</td>\n",
       "      <td>0.820319</td>\n",
       "      <td>0.650452</td>\n",
       "      <td>0.789392</td>\n",
       "      <td>0.853768</td>\n",
       "      <td>0.872136</td>\n",
       "      <td>0.724745</td>\n",
       "    </tr>\n",
       "    <tr>\n",
       "      <td>2300</td>\n",
       "      <td>0.035200</td>\n",
       "      <td>0.107759</td>\n",
       "      <td>0.877702</td>\n",
       "      <td>0.731315</td>\n",
       "      <td>0.823148</td>\n",
       "      <td>0.651390</td>\n",
       "      <td>0.792708</td>\n",
       "      <td>0.856018</td>\n",
       "      <td>0.873703</td>\n",
       "      <td>0.729164</td>\n",
       "    </tr>\n",
       "    <tr>\n",
       "      <td>2400</td>\n",
       "      <td>0.030100</td>\n",
       "      <td>0.109469</td>\n",
       "      <td>0.877892</td>\n",
       "      <td>0.720657</td>\n",
       "      <td>0.823114</td>\n",
       "      <td>0.668449</td>\n",
       "      <td>0.795073</td>\n",
       "      <td>0.853206</td>\n",
       "      <td>0.873247</td>\n",
       "      <td>0.729351</td>\n",
       "    </tr>\n",
       "    <tr>\n",
       "      <td>2500</td>\n",
       "      <td>0.030000</td>\n",
       "      <td>0.109007</td>\n",
       "      <td>0.872582</td>\n",
       "      <td>0.729513</td>\n",
       "      <td>0.816603</td>\n",
       "      <td>0.658340</td>\n",
       "      <td>0.788784</td>\n",
       "      <td>0.846457</td>\n",
       "      <td>0.868249</td>\n",
       "      <td>0.719335</td>\n",
       "    </tr>\n",
       "    <tr>\n",
       "      <td>2600</td>\n",
       "      <td>0.030500</td>\n",
       "      <td>0.110036</td>\n",
       "      <td>0.875047</td>\n",
       "      <td>0.720537</td>\n",
       "      <td>0.817358</td>\n",
       "      <td>0.688556</td>\n",
       "      <td>0.798712</td>\n",
       "      <td>0.836895</td>\n",
       "      <td>0.870146</td>\n",
       "      <td>0.721617</td>\n",
       "    </tr>\n",
       "    <tr>\n",
       "      <td>2700</td>\n",
       "      <td>0.027000</td>\n",
       "      <td>0.109797</td>\n",
       "      <td>0.872582</td>\n",
       "      <td>0.715233</td>\n",
       "      <td>0.816514</td>\n",
       "      <td>0.645877</td>\n",
       "      <td>0.784751</td>\n",
       "      <td>0.850956</td>\n",
       "      <td>0.869102</td>\n",
       "      <td>0.718777</td>\n",
       "    </tr>\n",
       "    <tr>\n",
       "      <td>2800</td>\n",
       "      <td>0.026000</td>\n",
       "      <td>0.110563</td>\n",
       "      <td>0.873531</td>\n",
       "      <td>0.681293</td>\n",
       "      <td>0.818549</td>\n",
       "      <td>0.652681</td>\n",
       "      <td>0.786121</td>\n",
       "      <td>0.853768</td>\n",
       "      <td>0.868392</td>\n",
       "      <td>0.721861</td>\n",
       "    </tr>\n",
       "    <tr>\n",
       "      <td>2900</td>\n",
       "      <td>0.027400</td>\n",
       "      <td>0.109856</td>\n",
       "      <td>0.874099</td>\n",
       "      <td>0.721600</td>\n",
       "      <td>0.814547</td>\n",
       "      <td>0.707132</td>\n",
       "      <td>0.804276</td>\n",
       "      <td>0.825084</td>\n",
       "      <td>0.870002</td>\n",
       "      <td>0.718536</td>\n",
       "    </tr>\n",
       "    <tr>\n",
       "      <td>3000</td>\n",
       "      <td>0.027200</td>\n",
       "      <td>0.109434</td>\n",
       "      <td>0.873151</td>\n",
       "      <td>0.760942</td>\n",
       "      <td>0.813514</td>\n",
       "      <td>0.654384</td>\n",
       "      <td>0.783039</td>\n",
       "      <td>0.846457</td>\n",
       "      <td>0.871875</td>\n",
       "      <td>0.714272</td>\n",
       "    </tr>\n",
       "    <tr>\n",
       "      <td>3100</td>\n",
       "      <td>0.024200</td>\n",
       "      <td>0.109949</td>\n",
       "      <td>0.873531</td>\n",
       "      <td>0.748780</td>\n",
       "      <td>0.815476</td>\n",
       "      <td>0.663411</td>\n",
       "      <td>0.785714</td>\n",
       "      <td>0.847582</td>\n",
       "      <td>0.871257</td>\n",
       "      <td>0.717382</td>\n",
       "    </tr>\n",
       "    <tr>\n",
       "      <td>3200</td>\n",
       "      <td>0.023500</td>\n",
       "      <td>0.110289</td>\n",
       "      <td>0.874099</td>\n",
       "      <td>0.722603</td>\n",
       "      <td>0.814918</td>\n",
       "      <td>0.718754</td>\n",
       "      <td>0.806612</td>\n",
       "      <td>0.823397</td>\n",
       "      <td>0.870961</td>\n",
       "      <td>0.719406</td>\n",
       "    </tr>\n",
       "    <tr>\n",
       "      <td>3300</td>\n",
       "      <td>0.023700</td>\n",
       "      <td>0.110316</td>\n",
       "      <td>0.874668</td>\n",
       "      <td>0.733619</td>\n",
       "      <td>0.815415</td>\n",
       "      <td>0.726141</td>\n",
       "      <td>0.809762</td>\n",
       "      <td>0.821147</td>\n",
       "      <td>0.871172</td>\n",
       "      <td>0.720586</td>\n",
       "    </tr>\n",
       "  </tbody>\n",
       "</table><p>"
      ],
      "text/plain": [
       "<IPython.core.display.HTML object>"
      ]
     },
     "metadata": {},
     "output_type": "display_data"
    },
    {
     "data": {
      "text/plain": [
       "TrainOutput(global_step=3300, training_loss=0.06392761685631491, metrics={'train_runtime': 1064.0133, 'train_samples_per_second': 198.249, 'train_steps_per_second': 3.101, 'total_flos': 0.0, 'train_loss': 0.06392761685631491, 'epoch': 10.0})"
      ]
     },
     "execution_count": 58,
     "metadata": {},
     "output_type": "execute_result"
    }
   ],
   "source": [
    "trainer = SentenceTransformerTrainer(\n",
    "    model=model,\n",
    "    args=args,\n",
    "    train_dataset=train_dataset,\n",
    "    eval_dataset=test_dataset,\n",
    "    loss=loss,\n",
    "    evaluator=dev_evaluator,\n",
    ")\n",
    "\n",
    "trainer.train(resume_from_checkpoint=checkpoint_path)"
   ]
  },
  {
   "cell_type": "code",
   "execution_count": 59,
   "id": "5135ad61-6a69-4006-9bf5-fd6e0ddf4c23",
   "metadata": {},
   "outputs": [
    {
     "data": {
      "text/html": [],
      "text/plain": [
       "<IPython.core.display.HTML object>"
      ]
     },
     "metadata": {},
     "output_type": "display_data"
    },
    {
     "data": {
      "text/html": [
       "<br>    <style><br>        .wandb-row {<br>            display: flex;<br>            flex-direction: row;<br>            flex-wrap: wrap;<br>            justify-content: flex-start;<br>            width: 100%;<br>        }<br>        .wandb-col {<br>            display: flex;<br>            flex-direction: column;<br>            flex-basis: 100%;<br>            flex: 1;<br>            padding: 10px;<br>        }<br>    </style><br><div class=\"wandb-row\"><div class=\"wandb-col\"><h3>Run history:</h3><br/><table class=\"wandb\"><tr><td>eval/cosine_accuracy</td><td>▁▄▅▅▆▇▆▇▇█▇██▇▇█▇▇█▇▇▇██▇▇▇▇▇▇▇▇▇</td></tr><tr><td>eval/cosine_accuracy_threshold</td><td>▆▄▃▁▃▄▃▄▄▅▃▅▄▃▇▃▃▄▆█▆▄▆▅▆▅▅▃▅▇▇▅▆</td></tr><tr><td>eval/cosine_ap</td><td>▁▃▄▄▅▆▆▆▇█▇█████▇███████▇██▇█████</td></tr><tr><td>eval/cosine_f1</td><td>▁▄▅▅▇▇▆▇██▇▇█▇█▇▇▇▇▇▇▇██▇▇▇▇▇▇▇▇▇</td></tr><tr><td>eval/cosine_f1_threshold</td><td>▃▂▄▁▃▅▃▅▆▆▅▇▆▅▄▅▄▄▅▅▇▅▅▅▅▆▄▅▇▅▅██</td></tr><tr><td>eval/cosine_mcc</td><td>▁▄▅▅▇▇▆▇██▇██▇▇█▇▇█▇▇▇██▇▇▇▇▇▇▇▇▇</td></tr><tr><td>eval/cosine_precision</td><td>▁▃▅▄▅▆▆▇▇█▇██▇▆█▇▇▇▇█▇▇▇▇▇▇▇█▇▇██</td></tr><tr><td>eval/cosine_recall</td><td>█▇▆▇█▆▄▃▄▄▄▂▄▄▇▃▃▅▃▄▃▄▄▄▄▃▄▄▁▄▄▁▁</td></tr><tr><td>eval/loss</td><td>█▄▄▃▃▃▂▂▂▂▁▁▁▁▂▁▁▁▁▁▁▁▁▁▁▁▁▁▁▁▁▁▁</td></tr><tr><td>eval/runtime</td><td>█▁▁▁▁▂▁▁▁▁▆▂▁▁▁▁▁▁▁▃▁▁▁▆▅▁▁▁▁▁▁▁▁</td></tr><tr><td>eval/samples_per_second</td><td>▁████▇████▃▇█████▇█▆███▃▄████████</td></tr><tr><td>eval/steps_per_second</td><td>▁████▇████▃▇█████▇█▆███▃▄████████</td></tr><tr><td>train/epoch</td><td>▁▁▁▁▂▂▂▂▂▂▃▃▃▃▄▄▄▄▄▄▄▅▅▅▅▆▆▆▆▆▇▇▇▇▇█████</td></tr><tr><td>train/global_step</td><td>▁▁▁▁▁▂▂▂▂▂▃▃▃▃▃▃▄▄▄▅▅▅▅▅▅▆▆▆▆▆▇▇▇▇▇▇████</td></tr><tr><td>train/grad_norm</td><td>▄▅▄▃▆▄▃▅▅▄▆▄▅▅█▅▃▄▆▃▅▄▃▆▃▃▃▁▄▂▁▅▄</td></tr><tr><td>train/learning_rate</td><td>▅███▇▇▇▇▆▆▆▆▆▅▅▅▅▄▄▄▄▃▃▃▃▃▂▂▂▂▁▁▁</td></tr><tr><td>train/loss</td><td>█▄▄▃▃▃▃▃▃▃▂▂▂▂▂▂▂▂▂▁▁▁▁▁▁▁▁▁▁▁▁▁▁</td></tr></table><br/></div><div class=\"wandb-col\"><h3>Run summary:</h3><br/><table class=\"wandb\"><tr><td>eval/cosine_accuracy</td><td>0.87467</td></tr><tr><td>eval/cosine_accuracy_threshold</td><td>0.73362</td></tr><tr><td>eval/cosine_ap</td><td>0.87117</td></tr><tr><td>eval/cosine_f1</td><td>0.81541</td></tr><tr><td>eval/cosine_f1_threshold</td><td>0.72614</td></tr><tr><td>eval/cosine_mcc</td><td>0.72059</td></tr><tr><td>eval/cosine_precision</td><td>0.80976</td></tr><tr><td>eval/cosine_recall</td><td>0.82115</td></tr><tr><td>eval/loss</td><td>0.11032</td></tr><tr><td>eval/runtime</td><td>5.7763</td></tr><tr><td>eval/samples_per_second</td><td>913.045</td></tr><tr><td>eval/steps_per_second</td><td>14.369</td></tr><tr><td>total_flos</td><td>0</td></tr><tr><td>train/epoch</td><td>10</td></tr><tr><td>train/global_step</td><td>3300</td></tr><tr><td>train/grad_norm</td><td>0.97834</td></tr><tr><td>train/learning_rate</td><td>0</td></tr><tr><td>train/loss</td><td>0.0237</td></tr><tr><td>train_loss</td><td>0.06393</td></tr><tr><td>train_runtime</td><td>1064.0133</td></tr><tr><td>train_samples_per_second</td><td>198.249</td></tr><tr><td>train_steps_per_second</td><td>3.101</td></tr></table><br/></div></div>"
      ],
      "text/plain": [
       "<IPython.core.display.HTML object>"
      ]
     },
     "metadata": {},
     "output_type": "display_data"
    },
    {
     "data": {
      "text/html": [
       "You can sync this run to the cloud by running:<br><code>wandb sync /home/kashurin/duplicates_search/wandb/offline-run-20250219_175537-18k81kvb<code>"
      ],
      "text/plain": [
       "<IPython.core.display.HTML object>"
      ]
     },
     "metadata": {},
     "output_type": "display_data"
    },
    {
     "data": {
      "text/html": [
       "Find logs at: <code>./wandb/offline-run-20250219_175537-18k81kvb/logs</code>"
      ],
      "text/plain": [
       "<IPython.core.display.HTML object>"
      ]
     },
     "metadata": {},
     "output_type": "display_data"
    }
   ],
   "source": [
    "wandb.finish()"
   ]
  },
  {
   "cell_type": "markdown",
   "id": "a0520624-825d-419c-945c-cc3528c3596a",
   "metadata": {},
   "source": [
    "## Test model"
   ]
  },
  {
   "cell_type": "code",
   "execution_count": 26,
   "id": "b13679d7-aef3-4a03-9821-429e1ab5badb",
   "metadata": {},
   "outputs": [],
   "source": [
    "model = SentenceTransformer(\"e5-base_run_4/checkpoint-1700\")"
   ]
  },
  {
   "cell_type": "code",
   "execution_count": 27,
   "id": "d5968843-9a76-444e-b46e-79afc280b6b8",
   "metadata": {},
   "outputs": [],
   "source": [
    "def test_model(model, test_dataset, clip_negative=True):\n",
    "    sentences1=test_dataset['text1']\n",
    "    sentences2=test_dataset[\"text2\"]\n",
    "    labels=test_dataset[\"label\"]\n",
    "\n",
    "    sentences = sentences1 + sentences2\n",
    "    embeddings = model.encode(\n",
    "        sentences,\n",
    "        normalize_embeddings=True,\n",
    "        show_progress_bar=True,\n",
    "        convert_to_numpy=True,\n",
    "    )\n",
    "    \n",
    "    embeddings1 = embeddings[: len(sentences1)]\n",
    "    embeddings2 = embeddings[len(sentences1) :]\n",
    "\n",
    "    similarity = 1 - paired_cosine_distances(embeddings1, embeddings2)\n",
    "    if clip_negative:\n",
    "        similarity[similarity < 0] = 0.0\n",
    "    return similarity"
   ]
  },
  {
   "cell_type": "code",
   "execution_count": 28,
   "id": "fc68249f-8779-4ad4-83b2-259f4c27c052",
   "metadata": {},
   "outputs": [
    {
     "data": {
      "application/vnd.jupyter.widget-view+json": {
       "model_id": "74fe741086ed40ec814e9b28c65034a5",
       "version_major": 2,
       "version_minor": 0
      },
      "text/plain": [
       "Batches:   0%|          | 0/330 [00:00<?, ?it/s]"
      ]
     },
     "metadata": {},
     "output_type": "display_data"
    }
   ],
   "source": [
    "similarity = test_model(model, test_dataset)"
   ]
  },
  {
   "cell_type": "code",
   "execution_count": 29,
   "id": "47b789eb-a341-4eea-a7ca-854e3b6fd50d",
   "metadata": {},
   "outputs": [
    {
     "data": {
      "image/png": "[encoded data removed]",
      "text/plain": [
       "<Figure size 640x480 with 1 Axes>"
      ]
     },
     "metadata": {},
     "output_type": "display_data"
    }
   ],
   "source": [
    "plt.hist(similarity, bins=40)\n",
    "plt.show()"
   ]
  },
  {
   "cell_type": "code",
   "execution_count": 30,
   "id": "8a1f28f2-61f2-4931-903c-126f98078bbb",
   "metadata": {},
   "outputs": [
    {
     "name": "stdout",
     "output_type": "stream",
     "text": [
      "ROC AUC: 0.9309865300018276\n"
     ]
    }
   ],
   "source": [
    "rocauc = roc_auc_score(test_dataset['label'], similarity)\n",
    "print(f'ROC AUC: {rocauc}')"
   ]
  },
  {
   "cell_type": "code",
   "execution_count": null,
   "id": "820b57f2-4b21-4a18-9f39-8ec335bc83ce",
   "metadata": {},
   "outputs": [],
   "source": []
  }
 ],
 "metadata": {
  "kernelspec": {
   "display_name": "rlhf_kernel",
   "language": "python",
   "name": "rlhf_kernel"
  },
  "language_info": {
   "codemirror_mode": {
    "name": "ipython",
    "version": 3
   },
   "file_extension": ".py",
   "mimetype": "text/x-python",
   "name": "python",
   "nbconvert_exporter": "python",
   "pygments_lexer": "ipython3",
   "version": "3.12.8"
  }
 },
 "nbformat": 4,
 "nbformat_minor": 5
}
