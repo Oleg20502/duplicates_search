{
 "cells": [
  {
   "cell_type": "code",
   "execution_count": 37,
   "id": "14093112-0726-47ce-af75-bc5030985865",
   "metadata": {},
   "outputs": [],
   "source": [
    "from sentence_transformers import (\n",
    "    SentenceTransformer,\n",
    "    InputExample,\n",
    "    losses,\n",
    "    SentenceTransformerTrainingArguments,\n",
    "    SentenceTransformerTrainer,\n",
    ")\n",
    "\n",
    "from sentence_transformers.evaluation import (\n",
    "    BinaryClassificationEvaluator,\n",
    "    SimilarityFunction,\n",
    ")\n",
    "\n",
    "from transformers import AutoConfig, AutoTokenizer, AutoModel\n",
    "\n",
    "from torch import nn\n",
    "from torch.utils.data import DataLoader, Dataset\n",
    "from datasets import load_dataset\n",
    "from sklearn.model_selection import train_test_split\n",
    "from sklearn.metrics.pairwise import paired_cosine_distances\n",
    "from sklearn.metrics import roc_auc_score\n",
    "\n",
    "import pandas as pd\n",
    "import numpy as np\n",
    "import matplotlib.pyplot as plt\n",
    "import os\n",
    "import sys\n",
    "\n",
    "os.environ[\"NCCL_P2P_DISABLE\"] = \"1\"\n",
    "os.environ[\"NCCL_IB_DISABLE\"] = \"1\"\n",
    "\n",
    "os.environ[\"CUDA_VISIBLE_DEVICES\"] = \"1\""
   ]
  },
  {
   "cell_type": "code",
   "execution_count": 38,
   "id": "fe23c14a-df4f-4665-957e-1c7736773f99",
   "metadata": {},
   "outputs": [],
   "source": [
    "model_id = \"bge-base/checkpoint-600\"\n",
    "\n",
    "model = SentenceTransformer(model_id)"
   ]
  },
  {
   "cell_type": "code",
   "execution_count": 39,
   "id": "41d614e9-d295-41cf-b73b-ec0d24aa4626",
   "metadata": {},
   "outputs": [],
   "source": [
    "dataset = load_dataset(\"csv\", data_files=\"data/test.csv\")"
   ]
  },
  {
   "cell_type": "code",
   "execution_count": 41,
   "id": "6fe57d91-3a41-4df5-aa2b-1ea352464048",
   "metadata": {},
   "outputs": [],
   "source": [
    "dataset = dataset.remove_columns('id')\n",
    "dataset = dataset.rename_column('question1', 'text1')\n",
    "dataset = dataset.rename_column('question2', 'text2')"
   ]
  },
  {
   "cell_type": "code",
   "execution_count": 42,
   "id": "b85547b9-d439-4778-b74d-01a2b9067e1a",
   "metadata": {},
   "outputs": [],
   "source": [
    "test_dataset = dataset['train']"
   ]
  },
  {
   "cell_type": "markdown",
   "id": "a0520624-825d-419c-945c-cc3528c3596a",
   "metadata": {},
   "source": [
    "## Test model"
   ]
  },
  {
   "cell_type": "code",
   "execution_count": 43,
   "id": "3594991c-1c90-489d-ad92-780ab807c004",
   "metadata": {},
   "outputs": [],
   "source": [
    "# trainer.state.best_model_checkpoint\n",
    "# model = SentenceTransformer(trainer.state.best_model_checkpoint)"
   ]
  },
  {
   "cell_type": "code",
   "execution_count": 44,
   "id": "d5968843-9a76-444e-b46e-79afc280b6b8",
   "metadata": {},
   "outputs": [],
   "source": [
    "def test_model(model, test_dataset, clip_negative=True):\n",
    "    sentences1=test_dataset['text1']\n",
    "    sentences2=test_dataset[\"text2\"]\n",
    "\n",
    "    sentences = sentences1 + sentences2\n",
    "    embeddings = model.encode(\n",
    "        sentences,\n",
    "        normalize_embeddings=True,\n",
    "        show_progress_bar=True,\n",
    "        convert_to_numpy=True,\n",
    "    )\n",
    "    \n",
    "    embeddings1 = embeddings[: len(sentences1)]\n",
    "    embeddings2 = embeddings[len(sentences1) :]\n",
    "\n",
    "    similarity = 1 - paired_cosine_distances(embeddings1, embeddings2)\n",
    "    if clip_negative:\n",
    "        similarity[similarity < 0] = 0.0\n",
    "    return similarity"
   ]
  },
  {
   "cell_type": "code",
   "execution_count": 45,
   "id": "fc68249f-8779-4ad4-83b2-259f4c27c052",
   "metadata": {},
   "outputs": [
    {
     "data": {
      "application/vnd.jupyter.widget-view+json": {
       "model_id": "73b4234fb06a4943a1f5dcdfb527f37a",
       "version_major": 2,
       "version_minor": 0
      },
      "text/plain": [
       "Batches:   0%|          | 0/3344 [00:00<?, ?it/s]"
      ]
     },
     "metadata": {},
     "output_type": "display_data"
    }
   ],
   "source": [
    "similarity = test_model(model, test_dataset)"
   ]
  },
  {
   "cell_type": "code",
   "execution_count": 46,
   "id": "47b789eb-a341-4eea-a7ca-854e3b6fd50d",
   "metadata": {},
   "outputs": [
    {
     "data": {
      "image/png": "[encoded data removed]",
      "text/plain": [
       "<Figure size 640x480 with 1 Axes>"
      ]
     },
     "metadata": {},
     "output_type": "display_data"
    }
   ],
   "source": [
    "plt.hist(similarity, bins=40)\n",
    "plt.show()"
   ]
  },
  {
   "cell_type": "code",
   "execution_count": 53,
   "id": "c6bcea67-65ea-477f-be13-1152750dacd7",
   "metadata": {},
   "outputs": [],
   "source": [
    "df_sub = pd.read_csv('data/submission.csv')"
   ]
  },
  {
   "cell_type": "code",
   "execution_count": 54,
   "id": "4cbaffa1-6fce-41f0-82ab-774ca26e00f3",
   "metadata": {},
   "outputs": [
    {
     "data": {
      "text/html": [
       "<div>\n",
       "<style scoped>\n",
       "    .dataframe tbody tr th:only-of-type {\n",
       "        vertical-align: middle;\n",
       "    }\n",
       "\n",
       "    .dataframe tbody tr th {\n",
       "        vertical-align: top;\n",
       "    }\n",
       "\n",
       "    .dataframe thead th {\n",
       "        text-align: right;\n",
       "    }\n",
       "</style>\n",
       "<table border=\"1\" class=\"dataframe\">\n",
       "  <thead>\n",
       "    <tr style=\"text-align: right;\">\n",
       "      <th></th>\n",
       "      <th>id</th>\n",
       "      <th>pred</th>\n",
       "    </tr>\n",
       "  </thead>\n",
       "  <tbody>\n",
       "    <tr>\n",
       "      <th>0</th>\n",
       "      <td>0</td>\n",
       "      <td>0.075591</td>\n",
       "    </tr>\n",
       "    <tr>\n",
       "      <th>1</th>\n",
       "      <td>1</td>\n",
       "      <td>0.681036</td>\n",
       "    </tr>\n",
       "    <tr>\n",
       "      <th>2</th>\n",
       "      <td>2</td>\n",
       "      <td>0.970905</td>\n",
       "    </tr>\n",
       "    <tr>\n",
       "      <th>3</th>\n",
       "      <td>3</td>\n",
       "      <td>0.995534</td>\n",
       "    </tr>\n",
       "    <tr>\n",
       "      <th>4</th>\n",
       "      <td>4</td>\n",
       "      <td>0.173098</td>\n",
       "    </tr>\n",
       "  </tbody>\n",
       "</table>\n",
       "</div>"
      ],
      "text/plain": [
       "   id      pred\n",
       "0   0  0.075591\n",
       "1   1  0.681036\n",
       "2   2  0.970905\n",
       "3   3  0.995534\n",
       "4   4  0.173098"
      ]
     },
     "execution_count": 54,
     "metadata": {},
     "output_type": "execute_result"
    }
   ],
   "source": [
    "df_sub.head()"
   ]
  },
  {
   "cell_type": "code",
   "execution_count": 55,
   "id": "8ea77fbf-c616-4028-b2de-7b54e27bee6d",
   "metadata": {},
   "outputs": [],
   "source": [
    "df_sub['pred'] = similarity"
   ]
  },
  {
   "cell_type": "code",
   "execution_count": 56,
   "id": "7db5a4cb-ca3b-4d35-aad7-29c05e2c13c1",
   "metadata": {},
   "outputs": [],
   "source": [
    "# df_sub.drop('Unnamed: 0', axis=1)"
   ]
  },
  {
   "cell_type": "code",
   "execution_count": 57,
   "id": "7a7bb382-52e9-4e03-8b26-33d27a8e4c75",
   "metadata": {},
   "outputs": [],
   "source": [
    "df_sub.to_csv('data/submission.csv', index=False)"
   ]
  },
  {
   "cell_type": "code",
   "execution_count": null,
   "id": "860e76f0-1897-4ad3-a915-39f09747f5b9",
   "metadata": {},
   "outputs": [],
   "source": []
  }
 ],
 "metadata": {
  "kernelspec": {
   "display_name": "rlhf_kernel",
   "language": "python",
   "name": "rlhf_kernel"
  },
  "language_info": {
   "codemirror_mode": {
    "name": "ipython",
    "version": 3
   },
   "file_extension": ".py",
   "mimetype": "text/x-python",
   "name": "python",
   "nbconvert_exporter": "python",
   "pygments_lexer": "ipython3",
   "version": "3.12.8"
  }
 },
 "nbformat": 4,
 "nbformat_minor": 5
}
